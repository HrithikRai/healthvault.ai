{
 "cells": [
  {
   "cell_type": "code",
   "execution_count": 1,
   "metadata": {},
   "outputs": [
    {
     "name": "stdout",
     "output_type": "stream",
     "text": [
      "[Collection(name=patient1), Collection(name=langchain)]\n"
     ]
    }
   ],
   "source": [
    "import chromadb\n",
    "\n",
    "client = chromadb.PersistentClient(path=\"pocs/chroma_db\")\n",
    "print(client.list_collections())"
   ]
  },
  {
   "cell_type": "code",
   "execution_count": 2,
   "metadata": {},
   "outputs": [
    {
     "name": "stderr",
     "output_type": "stream",
     "text": [
      "C:\\Users\\MSI\\AppData\\Local\\Temp\\ipykernel_13992\\4032817136.py:26: LangChainDeprecationWarning: The class `Chroma` was deprecated in LangChain 0.2.9 and will be removed in 1.0. An updated version of the class exists in the :class:`~langchain-chroma package and should be used instead. To use it run `pip install -U :class:`~langchain-chroma` and import as `from :class:`~langchain_chroma import Chroma``.\n",
      "  retriever = Chroma(persist_directory=\"pocs/chroma_db\",collection_name='patient1', embedding_function=embeddings).as_retriever()\n"
     ]
    }
   ],
   "source": [
    "import uvicorn\n",
    "import websockets\n",
    "import asyncio\n",
    "from fastapi import FastAPI, WebSocket, WebSocketDisconnect\n",
    "from langchain.schema.runnable import RunnablePassthrough, RunnableLambda\n",
    "from langchain.vectorstores import Chroma\n",
    "from langchain.prompts import PromptTemplate\n",
    "import dotenv\n",
    "from langchain_cohere import ChatCohere\n",
    "import os\n",
    "from langchain.memory import ConversationBufferMemory\n",
    "from langchain_core.output_parsers import StrOutputParser\n",
    "import json\n",
    "from langchain_cohere import CohereEmbeddings\n",
    "\n",
    "cohere_api_key = os.getenv('COHERE_API_KEY')\n",
    "\n",
    "app = FastAPI()\n",
    "session_memories = {}\n",
    "\n",
    "embeddings = CohereEmbeddings(\n",
    "    cohere_api_key=cohere_api_key,\n",
    "    model=\"embed-english-v3.0\",\n",
    ")\n",
    "\n",
    "retriever = Chroma(persist_directory=\"pocs/chroma_db\",collection_name='patient1', embedding_function=embeddings).as_retriever()"
   ]
  },
  {
   "cell_type": "code",
   "execution_count": 3,
   "metadata": {},
   "outputs": [
    {
     "data": {
      "text/plain": [
       "[Document(metadata={'source': '../uploads/patient1/patient1_analysis.txt'}, page_content='# Pathology Lab Report ### Medical Report Type - Pathology Lab Report ### Report Overview - This is a Complete Blood Count (CBC) report from Drlogy Pathology Lab for a patient named Yash M. Patel. - The report includes results for Hemoglobin, RBC count, Blood Indices, WBC count, Differential WBC count, and Platelet count, along with reference values and units'),\n",
       " Document(metadata={'source': '../uploads/patient1/patient1_analysis.txt'}, page_content='- The report appears complete and clear, with patient information and lab details present. ### Key Findings - **Hemoglobin (Hb):** 12.5 g/dL (Low; Reference range: 13.0-17.0 g/dL) - Mildly low. - **Packed Cell Volume (PCV):** 57.5 % (High; Reference range: 40-50 %) - Mildly elevated'),\n",
       " Document(metadata={'source': '../uploads/patient1/patient1_analysis.txt'}, page_content='### Research Context - **Anemia Diagnosis and Treatment:** Anemia is a common condition characterized by a deficiency of red blood cells or hemoglobin in the blood, resulting in reduced oxygen transport. Diagnosis involves a thorough medical history, physical examination, and laboratory tests, including a complete blood count (CBC) and iron studies'),\n",
       " Document(metadata={'source': '../uploads/patient1/patient1_analysis.txt'}, page_content='- **Differential Diagnoses:** 1. **Iron Deficiency Anemia:** Possible due to low hemoglobin. 2. **Polycythemia:** Elevated PCV could suggest this, but further investigation is needed. 3. **Thrombocytopenia:** Platelet count is borderline, requiring monitoring. ### Patient-Friendly Explanation - Your blood test results show that your hemoglobin level is a bit low')]"
      ]
     },
     "execution_count": 3,
     "metadata": {},
     "output_type": "execute_result"
    }
   ],
   "source": [
    "retriever.invoke(\"haemoglobin pathology report\")"
   ]
  },
  {
   "cell_type": "code",
   "execution_count": 4,
   "metadata": {},
   "outputs": [
    {
     "name": "stderr",
     "output_type": "stream",
     "text": [
      "C:\\Users\\MSI\\AppData\\Local\\Temp\\ipykernel_13992\\1977704862.py:25: LangChainDeprecationWarning: Please see the migration guide at: https://python.langchain.com/docs/versions/migrating_memory/\n",
      "  memory = ConversationBufferMemory(memory_key=\"history\", return_messages=True)\n"
     ]
    }
   ],
   "source": [
    "chat = ChatCohere(cohere_api_key=cohere_api_key)\n",
    "str_out = StrOutputParser()\n",
    "\n",
    "prompt_template = PromptTemplate(\n",
    "    input_variables=[\"history\", \"context\", \"question\"],\n",
    "    template=\"\"\"\n",
    "You are a really sympathetic and caring medical assistant for question-answering tasks. \n",
    "Your name is 'Eva'. Use the following pieces of retrieved context to answer the question. \n",
    "If you don't know the answer, just say that you don't know. \n",
    "\n",
    "### Conversation History:\n",
    "{history}\n",
    "\n",
    "### Retrieved Context:\n",
    "{context}\n",
    "\n",
    "### User Question:\n",
    "{question}\n",
    "\n",
    "### Eva's Response:\n",
    "\"\"\"\n",
    ")\n",
    "\n",
    "from langchain.memory import ConversationBufferMemory\n",
    "memory = ConversationBufferMemory(memory_key=\"history\", return_messages=True)\n",
    "\n",
    "prompt_template = PromptTemplate(\n",
    "    input_variables=[\"history\", \"context\", \"question\"],\n",
    "    template=\"\"\"\n",
    "You are a really sympathetic and caring medical assistant for question-answering tasks. \n",
    "Your name is 'Eva'. Use the following pieces of retrieved context to answer the question. \n",
    "If you don't know the answer, just say that you don't know. \n",
    "\n",
    "### Conversation History:\n",
    "{history}\n",
    "\n",
    "### Retrieved Context:\n",
    "{context}\n",
    "\n",
    "### User Question:\n",
    "{question}\n",
    "\n",
    "### Eva's Response:\n",
    "\"\"\"\n",
    ")\n",
    "from langchain.schema.runnable import RunnablePassthrough, RunnableLambda\n",
    "\n",
    "chain = (\n",
    "    {\n",
    "        \"history\": RunnableLambda(lambda x: memory.load_memory_variables(x)[\"history\"]),\n",
    "        \"context\": retriever,\n",
    "        \"question\": RunnablePassthrough()\n",
    "    }\n",
    "    | prompt_template\n",
    "    | chat\n",
    "    | str_out\n",
    ")"
   ]
  },
  {
   "cell_type": "code",
   "execution_count": 5,
   "metadata": {},
   "outputs": [
    {
     "data": {
      "text/plain": [
       "\"Sure, I'd be happy to explain the numbers in the pathology report.\\n\\nThe report includes several blood test results with corresponding reference values and units:\\n- **Hemoglobin (Hb):** 12.5 g/dL - This value is considered mildly low, as the reference range for a healthy individual is typically between 13.0-17.0 g/dL.\\n- **Packed Cell Volume (PCV) or Hematocrit:** 57.5% - This is mildly elevated, with the normal reference range being 40-50%.\\n- **Platelet Count:** 150000 cumm - This is at the lower limit of the normal range, which is 150000-410000 cumm.\\n\\nThese numbers are essential in diagnosing any potential medical conditions. In this case, the low hemoglobin level indicates anemia, which is also suggested in the report's interpretation. The mildly elevated PCV could be a cause for further investigation as well.\\n\\nI hope that helps clarify the report's findings, Yash. If you have any more questions or concerns about the report, feel free to ask.\""
      ]
     },
     "execution_count": 5,
     "metadata": {},
     "output_type": "execute_result"
    }
   ],
   "source": [
    "chain.invoke(\"tell me about the numbers in pathology report\")"
   ]
  },
  {
   "cell_type": "code",
   "execution_count": null,
   "metadata": {},
   "outputs": [],
   "source": []
  }
 ],
 "metadata": {
  "kernelspec": {
   "display_name": "lanchain_env",
   "language": "python",
   "name": "python3"
  },
  "language_info": {
   "codemirror_mode": {
    "name": "ipython",
    "version": 3
   },
   "file_extension": ".py",
   "mimetype": "text/x-python",
   "name": "python",
   "nbconvert_exporter": "python",
   "pygments_lexer": "ipython3",
   "version": "3.10.10"
  }
 },
 "nbformat": 4,
 "nbformat_minor": 2
}
